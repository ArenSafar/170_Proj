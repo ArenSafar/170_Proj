{
 "cells": [
  {
   "cell_type": "code",
   "execution_count": 245,
   "metadata": {},
   "outputs": [],
   "source": [
    "import numpy as np\n"
   ]
  },
  {
   "cell_type": "code",
   "execution_count": 246,
   "metadata": {},
   "outputs": [],
   "source": [
    "def generate2(M):\n",
    "    for v in len(M):\n",
    "        \n",
    "        a = list(range(0,p)) + list(range(p+1, V))\n",
    "        rnds = np.random.choice(a, 2, replace = False)\n",
    "        rt1 = str(p) + \" \" + str(rnds[0]) + \" \" + str(round(np.random.uniform(0,1),3)) + \"\\n\"\n",
    "        rt2 = str(p) + \" \" + str(rnds[1]) + \" \" + str(round(np.random.uniform(0,1),3)) + \"\\n\"\n",
    "    return rt1+rt2\n",
    "    \n",
    "def create_graph(V):\n",
    "    M = np.zeros((V,V))\n",
    "    data = str(V)+\"\\n\"\n",
    "    for v in range(V):\n",
    "        indxs = np.where(M[v] != 1)\n",
    "        msk = np.random.choice(indxs[0], int(0.85*len(M[v])), replace = False)\n",
    "        M[v][msk] = 1\n",
    "    \n",
    "    utl = np.tril_indices(V, -1)\n",
    "    M[utl] = 0\n",
    "    checker = {}\n",
    "    uti = np.tril_indices(V, 1)\n",
    "    for row in range( V):\n",
    "        for col in range(row+1, V):\n",
    "            if M[row][col] : \n",
    "                M[col][row] = 1\n",
    "                \n",
    "                checker[col] = checker [col] + 1 if col in checker else 1\n",
    "                checker[row] = checker [row] + 1 if row in checker else 1\n",
    "                weight = np.random.uniform(0, 100)\n",
    "                data += str(row)+ \" \"+ str(col) + \" \" + str(round(weight, 2)) + \"\\n\"\n",
    "                \n",
    "    for x in range(V):\n",
    "        if x not in checker or checker[x] < 2 :\n",
    "            return None, None\n",
    "            \n",
    "    return M, data"
   ]
  },
  {
   "cell_type": "code",
   "execution_count": 247,
   "metadata": {},
   "outputs": [],
   "source": [
    "file1 = open(\"30.in\", \"w+\")\n",
    "data = create_graph(30)[1]\n",
    "file1.write(data)\n",
    "file1.close()\n",
    "\n",
    "file1 = open(\"50.in\", \"w+\")\n",
    "data = create_graph(50)[1]\n",
    "file1.write(data)\n",
    "file1.close()\n",
    "\n",
    "file1 = open(\"100.in\", \"w+\")\n",
    "data = create_graph(100)[1]\n",
    "file1.write(data)\n",
    "file1.close()"
   ]
  },
  {
   "cell_type": "code",
   "execution_count": 244,
   "metadata": {},
   "outputs": [],
   "source": [
    "def generate_rnd_edges(n, portion):\n",
    "   \n",
    "    # upper triangular indicies with diagonal offset 1 (diagonal elements are not included)\n",
    "    iu1 = np.triu_indices(n, 1)\n",
    "    \n",
    "    # choose randomly number of portion of the possible edges\n",
    "    msk = np.random.choice(len(iu1[0]), int(portion*len(iu1[0])), replace = False)\n",
    "    \n",
    "    \n",
    "    masked = (iu1[0][msk], iu1[1][msk])\n",
    "    a = np.zeros((10,10))\n",
    "    a[masked] = 1\n",
    "    indicies = np.where(a>0)\n",
    "    print(a)\n",
    "    return list(zip(indicies[0],indicies[1]))\n"
   ]
  },
  {
   "cell_type": "code",
   "execution_count": 155,
   "metadata": {},
   "outputs": [
    {
     "name": "stdout",
     "output_type": "stream",
     "text": [
      "[[0. 1. 1. 1. 0. 1. 1. 1. 1. 1.]\n",
      " [0. 0. 1. 1. 1. 0. 1. 0. 1. 1.]\n",
      " [0. 0. 0. 1. 0. 1. 1. 1. 1. 1.]\n",
      " [0. 0. 0. 0. 1. 1. 1. 0. 0. 1.]\n",
      " [0. 0. 0. 0. 0. 1. 1. 1. 1. 1.]\n",
      " [0. 0. 0. 0. 0. 0. 1. 1. 1. 0.]\n",
      " [0. 0. 0. 0. 0. 0. 0. 0. 1. 0.]\n",
      " [0. 0. 0. 0. 0. 0. 0. 0. 1. 1.]\n",
      " [0. 0. 0. 0. 0. 0. 0. 0. 0. 1.]\n",
      " [0. 0. 0. 0. 0. 0. 0. 0. 0. 0.]]\n"
     ]
    }
   ],
   "source": [
    "b  = generate_rnd_edges(10, 0.8)\n"
   ]
  },
  {
   "cell_type": "code",
   "execution_count": null,
   "metadata": {},
   "outputs": [],
   "source": []
  }
 ],
 "metadata": {
  "kernelspec": {
   "display_name": "Python 3",
   "language": "python",
   "name": "python3"
  },
  "language_info": {
   "codemirror_mode": {
    "name": "ipython",
    "version": 3
   },
   "file_extension": ".py",
   "mimetype": "text/x-python",
   "name": "python",
   "nbconvert_exporter": "python",
   "pygments_lexer": "ipython3",
   "version": "3.7.3"
  }
 },
 "nbformat": 4,
 "nbformat_minor": 4
}
