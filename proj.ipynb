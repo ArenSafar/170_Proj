{
 "cells": [
  {
   "cell_type": "code",
   "execution_count": 475,
   "metadata": {},
   "outputs": [],
   "source": [
    "import numpy as np\n",
    "from parse import write_input_file, read_input_file\n",
    "import networkx as nx\n"
   ]
  },
  {
   "cell_type": "code",
   "execution_count": 476,
   "metadata": {},
   "outputs": [],
   "source": [
    "# def generate2(M):\n",
    "#     for v in len(M):\n",
    "        \n",
    "#         a = list(range(0,p)) + list(range(p+1, V))\n",
    "#         rnds = np.random.choice(a, 2, replace = False)\n",
    "#         rt1 = str(p) + \" \" + str(rnds[0]) + \" \" + str(round(np.random.uniform(0,1),3)) + \"\\n\"\n",
    "#         rt2 = str(p) + \" \" + str(rnds[1]) + \" \" + str(round(np.random.uniform(0,1),3)) + \"\\n\"\n",
    "#     return rt1+rt2\n",
    "    \n",
    "# def create_graph(V):\n",
    "#     M = np.zeros((V,V))\n",
    "#     data = str(V)+\"\\n\"\n",
    "#     for v in range(V):\n",
    "#         indxs = np.where(M[v] != 1)\n",
    "#         msk = np.random.choice(indxs[0], int(0.85*len(M[v])), replace = False)\n",
    "#         M[v][msk] = 1\n",
    "    \n",
    "#     utl = np.tril_indices(V, -1)\n",
    "#     M[utl] = 0\n",
    "#     checker = {}\n",
    "#     uti = np.tril_indices(V, 1)\n",
    "#     for row in range( V):\n",
    "#         for col in range(row+1, V):\n",
    "#             if M[row][col] : \n",
    "#                 M[col][row] = 1\n",
    "                \n",
    "#                 checker[col] = checker [col] + 1 if col in checker else 1\n",
    "#                 checker[row] = checker [row] + 1 if row in checker else 1\n",
    "#                 weight = np.random.uniform(0, 100)\n",
    "#                 data += str(row)+ \" \"+ str(col) + \" \" + str(round(weight, 2)) + \"\\n\"\n",
    "                \n",
    "#     for x in range(V):\n",
    "#         if x not in checker or checker[x] < 2 :\n",
    "#             return None, None\n",
    "            \n",
    "#     return M, data"
   ]
  },
  {
   "cell_type": "code",
   "execution_count": 477,
   "metadata": {},
   "outputs": [],
   "source": [
    "def generate_rnd_edges(n, portion):\n",
    "   \n",
    "    # upper triangular indicies with diagonal offset 1 (diagonal elements are not included)\n",
    "    iu1 = np.triu_indices(n, 1)\n",
    "    \n",
    "    # choose randomly number of portion of the possible edges\n",
    "    msk = np.random.choice(len(iu1[0]), int(portion*len(iu1[0])), replace = False)\n",
    "    \n",
    "    masked = (iu1[0][msk], iu1[1][msk])\n",
    "    a = np.zeros((n,n))\n",
    "    \n",
    "    # trigger the randomly chosen edges\n",
    "    a[masked] = 1\n",
    "    \n",
    "    indicies = np.where(a>0)\n",
    "    \n",
    "    # mirror upper triangle to lower\n",
    "    a[(masked[1], masked[0])] = 1\n",
    "    \n",
    "    assert(np.array_equal (a, a.T))\n",
    "    print(a)\n",
    "    # check if any of the nodes have degree less than 2\n",
    "    indcs = np.where (np.sum(a, axis = 0) < 2)\n",
    "    if len(indcs[0]) :\n",
    "        print(\"These nodes have degree less than two! : \", indcs)\n",
    "        \n",
    "    edges = list(zip(indicies[0],indicies[1]))\n",
    "    for i in range(len(edges)) :\n",
    "        weight = round(np.random.uniform(0.001, 99.999, ), 3)\n",
    "        edges[i] = (edges[i][0], edges[i][1], {'weight' : weight})\n",
    "        \n",
    "    return edges\n"
   ]
  },
  {
   "cell_type": "code",
   "execution_count": 478,
   "metadata": {},
   "outputs": [
    {
     "name": "stdout",
     "output_type": "stream",
     "text": [
      "[[0. 1. 1. 1. 1. 1. 1. 1. 1. 1. 1. 1. 1. 1. 1. 1. 1. 0. 1. 1. 1. 0. 0. 0.\n",
      "  1. 1. 1. 1. 1. 1.]\n",
      " [1. 0. 0. 1. 1. 1. 1. 1. 1. 1. 1. 1. 0. 1. 1. 1. 1. 1. 1. 1. 1. 1. 1. 1.\n",
      "  1. 1. 1. 1. 1. 1.]\n",
      " [1. 0. 0. 0. 1. 1. 1. 1. 1. 0. 1. 0. 1. 1. 0. 0. 1. 1. 1. 1. 1. 1. 0. 1.\n",
      "  1. 1. 0. 1. 1. 1.]\n",
      " [1. 1. 0. 0. 1. 1. 1. 1. 1. 1. 1. 1. 1. 1. 0. 1. 1. 1. 0. 0. 1. 1. 1. 1.\n",
      "  1. 1. 1. 1. 1. 1.]\n",
      " [1. 1. 1. 1. 0. 0. 1. 1. 1. 1. 1. 1. 1. 1. 1. 1. 1. 1. 1. 1. 1. 1. 0. 1.\n",
      "  1. 1. 1. 1. 1. 1.]\n",
      " [1. 1. 1. 1. 0. 0. 1. 1. 1. 1. 1. 1. 1. 1. 1. 1. 0. 1. 1. 1. 0. 1. 1. 1.\n",
      "  1. 1. 1. 1. 1. 1.]\n",
      " [1. 1. 1. 1. 1. 1. 0. 1. 1. 1. 1. 1. 1. 1. 1. 1. 1. 1. 1. 0. 1. 1. 1. 1.\n",
      "  0. 1. 1. 1. 1. 1.]\n",
      " [1. 1. 1. 1. 1. 1. 1. 0. 1. 1. 0. 1. 1. 1. 1. 0. 1. 1. 1. 1. 1. 1. 1. 0.\n",
      "  1. 1. 1. 1. 1. 1.]\n",
      " [1. 1. 1. 1. 1. 1. 1. 1. 0. 1. 1. 1. 1. 1. 1. 0. 0. 1. 1. 1. 1. 1. 1. 0.\n",
      "  1. 1. 0. 1. 1. 0.]\n",
      " [1. 1. 0. 1. 1. 1. 1. 1. 1. 0. 1. 1. 0. 1. 1. 1. 1. 1. 1. 1. 1. 1. 1. 1.\n",
      "  1. 1. 1. 0. 1. 1.]\n",
      " [1. 1. 1. 1. 1. 1. 1. 0. 1. 1. 0. 1. 1. 1. 0. 1. 0. 1. 1. 1. 1. 0. 1. 1.\n",
      "  1. 1. 1. 1. 1. 0.]\n",
      " [1. 1. 0. 1. 1. 1. 1. 1. 1. 1. 1. 0. 1. 1. 1. 0. 1. 1. 1. 1. 1. 0. 1. 1.\n",
      "  1. 1. 1. 1. 1. 1.]\n",
      " [1. 0. 1. 1. 1. 1. 1. 1. 1. 0. 1. 1. 0. 1. 1. 0. 1. 1. 1. 0. 1. 1. 1. 1.\n",
      "  1. 1. 1. 1. 1. 0.]\n",
      " [1. 1. 1. 1. 1. 1. 1. 1. 1. 1. 1. 1. 1. 0. 1. 0. 1. 1. 1. 1. 1. 1. 0. 1.\n",
      "  1. 1. 1. 0. 1. 1.]\n",
      " [1. 1. 0. 0. 1. 1. 1. 1. 1. 1. 0. 1. 1. 1. 0. 1. 1. 0. 0. 1. 0. 1. 1. 1.\n",
      "  1. 1. 1. 1. 1. 1.]\n",
      " [1. 1. 0. 1. 1. 1. 1. 0. 0. 1. 1. 0. 0. 0. 1. 0. 1. 1. 1. 0. 1. 0. 1. 1.\n",
      "  1. 0. 1. 1. 1. 0.]\n",
      " [1. 1. 1. 1. 1. 0. 1. 1. 0. 1. 0. 1. 1. 1. 1. 1. 0. 1. 0. 1. 1. 1. 1. 1.\n",
      "  0. 1. 1. 1. 0. 1.]\n",
      " [0. 1. 1. 1. 1. 1. 1. 1. 1. 1. 1. 1. 1. 1. 0. 1. 1. 0. 1. 1. 1. 1. 1. 1.\n",
      "  1. 1. 1. 1. 1. 1.]\n",
      " [1. 1. 1. 0. 1. 1. 1. 1. 1. 1. 1. 1. 1. 1. 0. 1. 0. 1. 0. 0. 1. 1. 1. 1.\n",
      "  1. 1. 1. 1. 1. 1.]\n",
      " [1. 1. 1. 0. 1. 1. 0. 1. 1. 1. 1. 1. 0. 1. 1. 0. 1. 1. 0. 0. 1. 1. 0. 1.\n",
      "  1. 1. 0. 1. 1. 1.]\n",
      " [1. 1. 1. 1. 1. 0. 1. 1. 1. 1. 1. 1. 1. 1. 0. 1. 1. 1. 1. 1. 0. 1. 1. 1.\n",
      "  0. 1. 1. 0. 1. 0.]\n",
      " [0. 1. 1. 1. 1. 1. 1. 1. 1. 1. 0. 0. 1. 1. 1. 0. 1. 1. 1. 1. 1. 0. 0. 1.\n",
      "  1. 1. 1. 1. 0. 1.]\n",
      " [0. 1. 0. 1. 0. 1. 1. 1. 1. 1. 1. 1. 1. 0. 1. 1. 1. 1. 1. 0. 1. 0. 0. 1.\n",
      "  0. 1. 1. 1. 1. 1.]\n",
      " [0. 1. 1. 1. 1. 1. 1. 0. 0. 1. 1. 1. 1. 1. 1. 1. 1. 1. 1. 1. 1. 1. 1. 0.\n",
      "  1. 1. 1. 1. 0. 0.]\n",
      " [1. 1. 1. 1. 1. 1. 0. 1. 1. 1. 1. 1. 1. 1. 1. 1. 0. 1. 1. 1. 0. 1. 0. 1.\n",
      "  0. 1. 0. 1. 1. 1.]\n",
      " [1. 1. 1. 1. 1. 1. 1. 1. 1. 1. 1. 1. 1. 1. 1. 0. 1. 1. 1. 1. 1. 1. 1. 1.\n",
      "  1. 0. 1. 1. 1. 1.]\n",
      " [1. 1. 0. 1. 1. 1. 1. 1. 0. 1. 1. 1. 1. 1. 1. 1. 1. 1. 1. 0. 1. 1. 1. 1.\n",
      "  0. 1. 0. 1. 1. 1.]\n",
      " [1. 1. 1. 1. 1. 1. 1. 1. 1. 0. 1. 1. 1. 0. 1. 1. 1. 1. 1. 1. 0. 1. 1. 1.\n",
      "  1. 1. 1. 0. 1. 1.]\n",
      " [1. 1. 1. 1. 1. 1. 1. 1. 1. 1. 1. 1. 1. 1. 1. 1. 0. 1. 1. 1. 1. 0. 1. 0.\n",
      "  1. 1. 1. 1. 0. 1.]\n",
      " [1. 1. 1. 1. 1. 1. 1. 1. 0. 1. 0. 1. 0. 1. 1. 0. 1. 1. 1. 1. 0. 1. 1. 0.\n",
      "  1. 1. 1. 1. 1. 0.]]\n",
      "[[0. 0. 0. ... 1. 1. 1.]\n",
      " [0. 0. 1. ... 1. 1. 1.]\n",
      " [0. 1. 0. ... 1. 1. 1.]\n",
      " ...\n",
      " [1. 1. 1. ... 0. 1. 1.]\n",
      " [1. 1. 1. ... 1. 0. 1.]\n",
      " [1. 1. 1. ... 1. 1. 0.]]\n",
      "[[0. 0. 0. ... 1. 1. 1.]\n",
      " [0. 0. 1. ... 1. 1. 1.]\n",
      " [0. 1. 0. ... 1. 1. 1.]\n",
      " ...\n",
      " [1. 1. 1. ... 0. 1. 1.]\n",
      " [1. 1. 1. ... 1. 0. 1.]\n",
      " [1. 1. 1. ... 1. 1. 0.]]\n"
     ]
    }
   ],
   "source": [
    "thirty = generate_rnd_edges(30, 0.85)\n",
    "fifty = generate_rnd_edges(50, 0.85)\n",
    "hundred = generate_rnd_edges(100, 0.85)\n",
    "\n",
    "G = nx.Graph()\n",
    "G.add_edges_from(thirty)\n",
    "path1 = \"30.in\"\n",
    "write_input_file(G, path1)\n",
    "\n",
    "G.clear()\n",
    "G.add_edges_from(fifty)\n",
    "path2 = \"50.in\"\n",
    "write_input_file(G, path2)\n",
    "\n",
    "G.clear()\n",
    "G.add_edges_from(hundred)\n",
    "path3 = \"100.in\"\n",
    "write_input_file(G, path3)\n"
   ]
  },
  {
   "cell_type": "code",
   "execution_count": 479,
   "metadata": {},
   "outputs": [
    {
     "data": {
      "text/plain": [
       "<networkx.classes.graph.Graph at 0x1a92471e128>"
      ]
     },
     "execution_count": 479,
     "metadata": {},
     "output_type": "execute_result"
    }
   ],
   "source": [
    "read_input_file(path1)\n",
    "read_input_file(path2)\n",
    "read_input_file(path3)"
   ]
  },
  {
   "cell_type": "code",
   "execution_count": 480,
   "metadata": {},
   "outputs": [
    {
     "name": "stdout",
     "output_type": "stream",
     "text": [
      "[[0. 1. 1. ... 0. 0. 0.]\n",
      " [1. 0. 0. ... 0. 0. 0.]\n",
      " [1. 0. 0. ... 0. 1. 1.]\n",
      " ...\n",
      " [0. 0. 0. ... 0. 1. 1.]\n",
      " [0. 0. 1. ... 1. 0. 0.]\n",
      " [0. 0. 1. ... 1. 0. 0.]]\n"
     ]
    }
   ],
   "source": [
    "ZZ = generate_rnd_edges(100, 0.55)"
   ]
  },
  {
   "cell_type": "code",
   "execution_count": 481,
   "metadata": {},
   "outputs": [
    {
     "data": {
      "image/png": "[encoded data removed]",
      "text/plain": [
       "<Figure size 432x288 with 1 Axes>"
      ]
     },
     "metadata": {},
     "output_type": "display_data"
    }
   ],
   "source": [
    "G.clear()\n",
    "G.add_edges_from(ZZ)\n",
    "nx.draw_networkx(G)"
   ]
  },
  {
   "cell_type": "code",
   "execution_count": 482,
   "metadata": {},
   "outputs": [
    {
     "name": "stdout",
     "output_type": "stream",
     "text": [
      "[[(0, 39), (39, 28), (28, 57), (57, 4)], [(0, 90), (90, 57), (57, 4)], [(0, 73), (73, 54), (54, 71), (71, 57), (57, 4)]]\n"
     ]
    }
   ],
   "source": [
    "aaa = nx.shortest_simple_paths(G, 0, 4, weight = \"weight\")\n",
    "k = 3\n",
    "bests = []\n",
    "un = []\n",
    "for i, path in enumerate(map(nx.utils.pairwise, aaa)):\n",
    "    if  i == k:\n",
    "        break\n",
    "    zz = list(path)\n",
    "    bests.append(zz)\n",
    "    un += zz\n",
    "print(bests)"
   ]
  },
  {
   "cell_type": "code",
   "execution_count": 483,
   "metadata": {},
   "outputs": [
    {
     "ename": "KeyboardInterrupt",
     "evalue": "",
     "output_type": "error",
     "traceback": [
      "\u001b[1;31m---------------------------------------------------------------------------\u001b[0m",
      "\u001b[1;31mKeyboardInterrupt\u001b[0m                         Traceback (most recent call last)",
      "\u001b[1;32m<ipython-input-483-8c3343a2d666>\u001b[0m in \u001b[0;36m<module>\u001b[1;34m\u001b[0m\n\u001b[0;32m     10\u001b[0m     \u001b[0mxx\u001b[0m \u001b[1;33m=\u001b[0m \u001b[0mlist\u001b[0m\u001b[1;33m(\u001b[0m\u001b[0mpath\u001b[0m\u001b[1;33m)\u001b[0m\u001b[1;33m\u001b[0m\u001b[1;33m\u001b[0m\u001b[0m\n\u001b[0;32m     11\u001b[0m     \u001b[0mthe_edges\u001b[0m \u001b[1;33m+=\u001b[0m \u001b[0mxx\u001b[0m\u001b[1;33m\u001b[0m\u001b[1;33m\u001b[0m\u001b[0m\n\u001b[1;32m---> 12\u001b[1;33m     \u001b[0mthe_set\u001b[0m \u001b[1;33m=\u001b[0m \u001b[0mnp\u001b[0m\u001b[1;33m.\u001b[0m\u001b[0mconcatenate\u001b[0m\u001b[1;33m(\u001b[0m\u001b[1;33m(\u001b[0m\u001b[0mthe_set\u001b[0m\u001b[1;33m,\u001b[0m \u001b[0mxx\u001b[0m\u001b[1;33m)\u001b[0m\u001b[1;33m)\u001b[0m \u001b[1;32mif\u001b[0m \u001b[0mthe_set\u001b[0m\u001b[1;33m.\u001b[0m\u001b[0msize\u001b[0m \u001b[1;32melse\u001b[0m \u001b[0mnp\u001b[0m\u001b[1;33m.\u001b[0m\u001b[0marray\u001b[0m\u001b[1;33m(\u001b[0m\u001b[0mxx\u001b[0m\u001b[1;33m)\u001b[0m\u001b[1;33m\u001b[0m\u001b[1;33m\u001b[0m\u001b[0m\n\u001b[0m\u001b[0;32m     13\u001b[0m \u001b[1;31m#     print(xx)\u001b[0m\u001b[1;33m\u001b[0m\u001b[1;33m\u001b[0m\u001b[1;33m\u001b[0m\u001b[0m\n\u001b[0;32m     14\u001b[0m \u001b[1;31m# np.unique(the_set)\u001b[0m\u001b[1;33m\u001b[0m\u001b[1;33m\u001b[0m\u001b[1;33m\u001b[0m\u001b[0m\n",
      "\u001b[1;32m<__array_function__ internals>\u001b[0m in \u001b[0;36mconcatenate\u001b[1;34m(*args, **kwargs)\u001b[0m\n",
      "\u001b[1;31mKeyboardInterrupt\u001b[0m: "
     ]
    }
   ],
   "source": [
    "edges = G.nodes()\n",
    "G.add_edge(0,4,weight = 122)\n",
    "# for e in G.edges(0):\n",
    "#     G[e[0]][e[1]][\"weight\"] = 99\n",
    "# G.edges(0, data = True)\n",
    "paths = nx.all_simple_paths(G, 0, 3)\n",
    "the_nodes = np.array([])\n",
    "the_edges = []\n",
    "for path in map(nx.utils.pairwise, paths):\n",
    "    xx = list(path)\n",
    "    the_edges += xx\n",
    "    the_set = np.concatenate((the_set, xx)) if the_set.size else np.array(xx)\n",
    "#     print(xx)\n",
    "# np.unique(the_set)\n",
    "set(the_edges)\n",
    "# list(nx.all_shortest_paths(G, 0, 4))"
   ]
  },
  {
   "cell_type": "code",
   "execution_count": null,
   "metadata": {},
   "outputs": [],
   "source": [
    "\n",
    "nx.adjacency_matrix(G).todense()"
   ]
  },
  {
   "cell_type": "code",
   "execution_count": null,
   "metadata": {},
   "outputs": [],
   "source": [
    "the_edges"
   ]
  },
  {
   "cell_type": "code",
   "execution_count": null,
   "metadata": {},
   "outputs": [],
   "source": [
    "from mip import Model, xsum, maximize, BINARY"
   ]
  },
  {
   "cell_type": "code",
   "execution_count": null,
   "metadata": {},
   "outputs": [],
   "source": [
    "aa = set()\n",
    "b = [1,2,2,3]\n",
    "aa |= set(b)\n",
    "aa"
   ]
  },
  {
   "cell_type": "code",
   "execution_count": null,
   "metadata": {},
   "outputs": [],
   "source": [
    "the_edges= np.unique(un, axis = 0)\n",
    "# the_edges = tuple(map(tuple, the_edges))\n",
    "# the_edges.array_equal(bests[0][0])\n",
    "# np.array_equal(bests[0][0], the_edges[0])\n"
   ]
  },
  {
   "cell_type": "code",
   "execution_count": null,
   "metadata": {},
   "outputs": [],
   "source": [
    "\n",
    "cc = bests[0][0]\n",
    "np.where(np.all(the_edges == cc, axis = 1))\n"
   ]
  },
  {
   "cell_type": "code",
   "execution_count": null,
   "metadata": {},
   "outputs": [],
   "source": [
    "float('inf') * 5 == np.inf"
   ]
  },
  {
   "cell_type": "code",
   "execution_count": 484,
   "metadata": {},
   "outputs": [
    {
     "data": {
      "image/png": "[encoded data removed]",
      "text/plain": [
       "<Figure size 432x288 with 1 Axes>"
      ]
     },
     "metadata": {},
     "output_type": "display_data"
    }
   ],
   "source": [
    "G.clear()\n",
    "\n",
    "G.add_edge(0, 1, weight = 2)\n",
    "G.add_edge(0, 3, weight = 9)\n",
    "G.add_edge(0, 4, weight = 3)\n",
    "G.add_edge(1, 2, weight = 4)\n",
    "G.add_edge(2, 3, weight = 1)\n",
    "G.add_edge(1, 3, weight = 3)\n",
    "G.add_edge(1, 4, weight = 8)\n",
    "G.add_edge(2, 5, weight = 9)\n",
    "G.add_edge(2, 6, weight = 2)\n",
    "G.add_edge(3, 4, weight = 1)\n",
    "G.add_edge(3, 5, weight = 2)\n",
    "G.add_edge(4, 5, weight = 2)\n",
    "G.add_edge(3, 6, weight = 6)\n",
    "G.add_edge(5, 6, weight = 4)\n",
    "nx.draw_networkx(G)"
   ]
  },
  {
   "cell_type": "code",
   "execution_count": 485,
   "metadata": {},
   "outputs": [],
   "source": [
    "# G.add_edge(10, 9)\n",
    "# G.add_edge(12, 13)\n",
    "# print(nx.shortest_path(G, 12, 0))\n",
    "# nx.draw_networkx(G)"
   ]
  },
  {
   "cell_type": "code",
   "execution_count": 486,
   "metadata": {},
   "outputs": [
    {
     "name": "stdout",
     "output_type": "stream",
     "text": [
      "63\n"
     ]
    }
   ],
   "source": [
    "aaa = nx.shortest_simple_paths(G, 0, 6, weight = \"weight\")\n",
    "# p = 62\n",
    "# print(nx.shortest_path(G, 0, 6, weight = \"weight\"))\n",
    "bests = []\n",
    "un = []\n",
    "for i, path in enumerate(map(nx.utils.pairwise, aaa)):\n",
    "#     if  i == p:\n",
    "#         break\n",
    "    zz = list(path)\n",
    "    bests.append(zz)\n",
    "    un += zz\n",
    "print(len(bests))\n",
    "the_edges = np.unique(un, axis = 0)\n",
    "# print(the_edges)"
   ]
  },
  {
   "cell_type": "code",
   "execution_count": 503,
   "metadata": {},
   "outputs": [
    {
     "name": "stdout",
     "output_type": "stream",
     "text": [
      "22\n",
      "0: + 1000var(2) + 1000var(16) + 1000var(11) + 1000var(9) + 7.0\n",
      "1: + 1000var(0) + 1000var(3) + 1000var(9) + 8.0\n",
      "2: + 1000var(0) + 1000var(4) + 1000var(11) + 1000var(9) + 8.0\n",
      "3: + 1000var(2) + 1000var(17) + 1000var(21) + 9.0\n",
      "4: + 1000var(2) + 1000var(16) + 1000var(14) + 10.0\n",
      "5: + 1000var(2) + 1000var(17) + 1000var(19) + 1000var(11) + 1000var(9) + 10.0\n",
      "6: + 1000var(2) + 1000var(16) + 1000var(13) + 1000var(21) + 10.0\n",
      "7: + 1000var(0) + 1000var(4) + 1000var(14) + 11.0\n",
      "8: + 1000var(0) + 1000var(4) + 1000var(13) + 1000var(21) + 11.0\n",
      "9: + 1000var(1) + 1000var(11) + 1000var(9) + 12.0\n",
      "10: + 1000var(0) + 1000var(4) + 1000var(12) + 1000var(17) + 1000var(21) + 12.0\n",
      "11: + 1000var(0) + 1000var(3) + 1000var(7) + 1000var(14) + 13.0\n",
      "12: + 1000var(2) + 1000var(17) + 1000var(19) + 1000var(14) + 13.0\n",
      "13: + 1000var(2) + 1000var(16) + 1000var(10) + 1000var(3) + 1000var(9) + 13.0\n",
      "14: + 1000var(0) + 1000var(3) + 1000var(7) + 1000var(13) + 1000var(21) + 13.0\n",
      "15: + 1000var(0) + 1000var(5) + 1000var(16) + 1000var(11) + 1000var(9) + 14.0\n",
      "16: + 1000var(0) + 1000var(3) + 1000var(7) + 1000var(12) + 1000var(17) + 1000var(21) + 14.0\n",
      "17: + 1000var(1) + 1000var(14) + 15.0\n",
      "18: + 1000var(1) + 1000var(13) + 1000var(21) + 15.0\n",
      "19: + 1000var(2) + 1000var(17) + 1000var(18) + 1000var(9) + 16.0\n",
      "20: + 1000var(2) + 1000var(17) + 1000var(19) + 1000var(10) + 1000var(3) + 1000var(9) + 16.0\n",
      "21: + 1000var(0) + 1000var(5) + 1000var(17) + 1000var(21) + 16.0\n",
      "22: + 1000var(1) + 1000var(12) + 1000var(17) + 1000var(21) + 16.0\n",
      "23: + 1000var(2) + 1000var(15) + 1000var(3) + 1000var(9) + 17.0\n",
      "24: + 1000var(2) + 1000var(16) + 1000var(13) + 1000var(18) + 1000var(9) + 17.0\n",
      "25: + 1000var(0) + 1000var(5) + 1000var(16) + 1000var(14) + 17.0\n",
      "26: + 1000var(0) + 1000var(5) + 1000var(17) + 1000var(19) + 1000var(11) + 1000var(9) + 17.0\n",
      "27: + 1000var(2) + 1000var(15) + 1000var(4) + 1000var(11) + 1000var(9) + 17.0\n",
      "28: + 1000var(0) + 1000var(5) + 1000var(16) + 1000var(13) + 1000var(21) + 17.0\n",
      "29: + 1000var(2) + 1000var(16) + 1000var(11) + 1000var(8) + 1000var(21) + 18.0\n",
      "30: + 1000var(0) + 1000var(4) + 1000var(13) + 1000var(18) + 1000var(9) + 18.0\n",
      "31: + 1000var(1) + 1000var(10) + 1000var(3) + 1000var(9) + 18.0\n",
      "32: + 1000var(0) + 1000var(4) + 1000var(11) + 1000var(8) + 1000var(21) + 19.0\n",
      "33: + 1000var(0) + 1000var(4) + 1000var(12) + 1000var(17) + 1000var(18) + 1000var(9) + 19.0\n",
      "34: + 1000var(0) + 1000var(3) + 1000var(8) + 1000var(21) + 19.0\n",
      "35: + 1000var(0) + 1000var(5) + 1000var(17) + 1000var(19) + 1000var(14) + 20.0\n",
      "36: + 1000var(2) + 1000var(15) + 1000var(4) + 1000var(14) + 20.0\n",
      "37: + 1000var(2) + 1000var(15) + 1000var(4) + 1000var(13) + 1000var(21) + 20.0\n",
      "38: + 1000var(2) + 1000var(17) + 1000var(18) + 1000var(7) + 1000var(14) + 21.0\n",
      "39: + 1000var(1) + 1000var(13) + 1000var(18) + 1000var(9) + 22.0\n",
      "40: + 1000var(2) + 1000var(15) + 1000var(3) + 1000var(7) + 1000var(14) + 22.0\n",
      "41: + 1000var(2) + 1000var(15) + 1000var(3) + 1000var(7) + 1000var(13) + 1000var(21) + 22.0\n",
      "42: + 1000var(1) + 1000var(11) + 1000var(8) + 1000var(21) + 23.0\n",
      "43: + 1000var(1) + 1000var(12) + 1000var(17) + 1000var(18) + 1000var(9) + 23.0\n",
      "44: + 1000var(0) + 1000var(5) + 1000var(17) + 1000var(18) + 1000var(9) + 23.0\n",
      "45: + 1000var(0) + 1000var(3) + 1000var(8) + 1000var(19) + 1000var(14) + 23.0\n",
      "46: + 1000var(2) + 1000var(16) + 1000var(10) + 1000var(3) + 1000var(8) + 1000var(21) + 24.0\n",
      "47: + 1000var(1) + 1000var(12) + 1000var(15) + 1000var(3) + 1000var(9) + 24.0\n",
      "48: + 1000var(0) + 1000var(5) + 1000var(16) + 1000var(13) + 1000var(18) + 1000var(9) + 24.0\n",
      "49: + 1000var(0) + 1000var(3) + 1000var(8) + 1000var(20) + 1000var(16) + 1000var(14) + 24.0\n",
      "50: + 1000var(0) + 1000var(5) + 1000var(16) + 1000var(11) + 1000var(8) + 1000var(21) + 25.0\n",
      "51: + 1000var(1) + 1000var(10) + 1000var(5) + 1000var(17) + 1000var(21) + 26.0\n",
      "52: + 1000var(2) + 1000var(15) + 1000var(4) + 1000var(13) + 1000var(18) + 1000var(9) + 27.0\n",
      "53: + 1000var(2) + 1000var(17) + 1000var(18) + 1000var(6) + 1000var(4) + 1000var(14) + 27.0\n",
      "54: + 1000var(1) + 1000var(13) + 1000var(20) + 1000var(15) + 1000var(3) + 1000var(9) + 27.0\n",
      "55: + 1000var(2) + 1000var(15) + 1000var(4) + 1000var(11) + 1000var(8) + 1000var(21) + 28.0\n",
      "56: + 1000var(2) + 1000var(15) + 1000var(3) + 1000var(8) + 1000var(21) + 28.0\n",
      "57: + 1000var(1) + 1000var(11) + 1000var(6) + 1000var(5) + 1000var(17) + 1000var(21) + 28.0\n",
      "58: + 1000var(0) + 1000var(5) + 1000var(17) + 1000var(18) + 1000var(7) + 1000var(14) + 28.0\n",
      "59: + 1000var(1) + 1000var(10) + 1000var(3) + 1000var(8) + 1000var(21) + 29.0\n",
      "60: + 1000var(2) + 1000var(15) + 1000var(3) + 1000var(8) + 1000var(19) + 1000var(14) + 32.0\n",
      "61: + 1000var(1) + 1000var(10) + 1000var(5) + 1000var(17) + 1000var(18) + 1000var(9) + 33.0\n",
      "62: + 1000var(1) + 1000var(12) + 1000var(15) + 1000var(3) + 1000var(8) + 1000var(21) + 35.0\n"
     ]
    },
    {
     "ename": "TypeError",
     "evalue": "'>=' not supported between instances of 'NoneType' and 'float'",
     "output_type": "error",
     "traceback": [
      "\u001b[1;31m---------------------------------------------------------------------------\u001b[0m",
      "\u001b[1;31mTypeError\u001b[0m                                 Traceback (most recent call last)",
      "\u001b[1;32m<ipython-input-503-1dc3257552a6>\u001b[0m in \u001b[0;36m<module>\u001b[1;34m\u001b[0m\n\u001b[0;32m     23\u001b[0m \u001b[1;33m\u001b[0m\u001b[0m\n\u001b[0;32m     24\u001b[0m \u001b[0mm\u001b[0m\u001b[1;33m.\u001b[0m\u001b[0moptimize\u001b[0m\u001b[1;33m(\u001b[0m\u001b[1;33m)\u001b[0m\u001b[1;33m\u001b[0m\u001b[1;33m\u001b[0m\u001b[0m\n\u001b[1;32m---> 25\u001b[1;33m \u001b[0mselected\u001b[0m \u001b[1;33m=\u001b[0m \u001b[1;33m[\u001b[0m\u001b[0mi\u001b[0m \u001b[1;32mfor\u001b[0m \u001b[0mi\u001b[0m \u001b[1;32min\u001b[0m \u001b[0mrange\u001b[0m\u001b[1;33m(\u001b[0m\u001b[0mlen\u001b[0m\u001b[1;33m(\u001b[0m\u001b[0mthe_edges\u001b[0m\u001b[1;33m)\u001b[0m\u001b[1;33m)\u001b[0m \u001b[1;32mif\u001b[0m \u001b[0mx\u001b[0m\u001b[1;33m[\u001b[0m\u001b[0mi\u001b[0m\u001b[1;33m]\u001b[0m\u001b[1;33m.\u001b[0m\u001b[0mx\u001b[0m \u001b[1;33m>=\u001b[0m \u001b[1;36m0.99\u001b[0m\u001b[1;33m]\u001b[0m\u001b[1;33m\u001b[0m\u001b[1;33m\u001b[0m\u001b[0m\n\u001b[0m\u001b[0;32m     26\u001b[0m \u001b[0mprint\u001b[0m\u001b[1;33m(\u001b[0m\u001b[1;34m\"selected items: {}\"\u001b[0m\u001b[1;33m.\u001b[0m\u001b[0mformat\u001b[0m\u001b[1;33m(\u001b[0m\u001b[0mselected\u001b[0m\u001b[1;33m)\u001b[0m\u001b[1;33m)\u001b[0m\u001b[1;33m\u001b[0m\u001b[1;33m\u001b[0m\u001b[0m\n\u001b[0;32m     27\u001b[0m \u001b[0mthe_edges\u001b[0m\u001b[1;33m[\u001b[0m\u001b[0mselected\u001b[0m\u001b[1;33m]\u001b[0m\u001b[1;33m\u001b[0m\u001b[1;33m\u001b[0m\u001b[0m\n",
      "\u001b[1;32m<ipython-input-503-1dc3257552a6>\u001b[0m in \u001b[0;36m<listcomp>\u001b[1;34m(.0)\u001b[0m\n\u001b[0;32m     23\u001b[0m \u001b[1;33m\u001b[0m\u001b[0m\n\u001b[0;32m     24\u001b[0m \u001b[0mm\u001b[0m\u001b[1;33m.\u001b[0m\u001b[0moptimize\u001b[0m\u001b[1;33m(\u001b[0m\u001b[1;33m)\u001b[0m\u001b[1;33m\u001b[0m\u001b[1;33m\u001b[0m\u001b[0m\n\u001b[1;32m---> 25\u001b[1;33m \u001b[0mselected\u001b[0m \u001b[1;33m=\u001b[0m \u001b[1;33m[\u001b[0m\u001b[0mi\u001b[0m \u001b[1;32mfor\u001b[0m \u001b[0mi\u001b[0m \u001b[1;32min\u001b[0m \u001b[0mrange\u001b[0m\u001b[1;33m(\u001b[0m\u001b[0mlen\u001b[0m\u001b[1;33m(\u001b[0m\u001b[0mthe_edges\u001b[0m\u001b[1;33m)\u001b[0m\u001b[1;33m)\u001b[0m \u001b[1;32mif\u001b[0m \u001b[0mx\u001b[0m\u001b[1;33m[\u001b[0m\u001b[0mi\u001b[0m\u001b[1;33m]\u001b[0m\u001b[1;33m.\u001b[0m\u001b[0mx\u001b[0m \u001b[1;33m>=\u001b[0m \u001b[1;36m0.99\u001b[0m\u001b[1;33m]\u001b[0m\u001b[1;33m\u001b[0m\u001b[1;33m\u001b[0m\u001b[0m\n\u001b[0m\u001b[0;32m     26\u001b[0m \u001b[0mprint\u001b[0m\u001b[1;33m(\u001b[0m\u001b[1;34m\"selected items: {}\"\u001b[0m\u001b[1;33m.\u001b[0m\u001b[0mformat\u001b[0m\u001b[1;33m(\u001b[0m\u001b[0mselected\u001b[0m\u001b[1;33m)\u001b[0m\u001b[1;33m)\u001b[0m\u001b[1;33m\u001b[0m\u001b[1;33m\u001b[0m\u001b[0m\n\u001b[0;32m     27\u001b[0m \u001b[0mthe_edges\u001b[0m\u001b[1;33m[\u001b[0m\u001b[0mselected\u001b[0m\u001b[1;33m]\u001b[0m\u001b[1;33m\u001b[0m\u001b[1;33m\u001b[0m\u001b[0m\n",
      "\u001b[1;31mTypeError\u001b[0m: '>=' not supported between instances of 'NoneType' and 'float'"
     ]
    }
   ],
   "source": [
    "from mip import Model, xsum, minimize,maximize, BINARY\n",
    "\n",
    "m = Model()\n",
    "print(len(the_edges))\n",
    "x = [m.add_var(var_type=BINARY) for i in range(len(the_edges))]\n",
    "\n",
    "z = m.add_var('z')\n",
    "\n",
    "\n",
    "m.objective = maximize(z)\n",
    "\n",
    "\n",
    "m += xsum(x[i] for i in range(len(the_edges))) == 3\n",
    "\n",
    "for i, l in enumerate(bests):\n",
    "    xs = xsum((G[e[0]][e[1]]['weight'] + (1000 * x[np.where(np.all(the_edges == e, axis = 1))[0][0]]))\n",
    "              for e in l)\n",
    "    print(str(i) + \":\", xs)\n",
    "   \n",
    "\n",
    "    \n",
    "# m += xsum(w[i] * x[i] for i in I) <= c\n",
    "\n",
    "m.optimize()\n",
    "selected = [i for i in range(len(the_edges)) if x[i].x >= 0.99]\n",
    "print(\"selected items: {}\".format(selected))\n",
    "the_edges[selected]"
   ]
  },
  {
   "cell_type": "code",
   "execution_count": 433,
   "metadata": {},
   "outputs": [
    {
     "ename": "NetworkXNoPath",
     "evalue": "No path to 6.",
     "output_type": "error",
     "traceback": [
      "\u001b[1;31m---------------------------------------------------------------------------\u001b[0m",
      "\u001b[1;31mKeyError\u001b[0m                                  Traceback (most recent call last)",
      "\u001b[1;32m~\\Anaconda3\\lib\\site-packages\\networkx\\algorithms\\shortest_paths\\weighted.py\u001b[0m in \u001b[0;36mmulti_source_dijkstra\u001b[1;34m(G, sources, target, cutoff, weight)\u001b[0m\n\u001b[0;32m    727\u001b[0m     \u001b[1;32mtry\u001b[0m\u001b[1;33m:\u001b[0m\u001b[1;33m\u001b[0m\u001b[1;33m\u001b[0m\u001b[0m\n\u001b[1;32m--> 728\u001b[1;33m         \u001b[1;32mreturn\u001b[0m \u001b[1;33m(\u001b[0m\u001b[0mdist\u001b[0m\u001b[1;33m[\u001b[0m\u001b[0mtarget\u001b[0m\u001b[1;33m]\u001b[0m\u001b[1;33m,\u001b[0m \u001b[0mpaths\u001b[0m\u001b[1;33m[\u001b[0m\u001b[0mtarget\u001b[0m\u001b[1;33m]\u001b[0m\u001b[1;33m)\u001b[0m\u001b[1;33m\u001b[0m\u001b[1;33m\u001b[0m\u001b[0m\n\u001b[0m\u001b[0;32m    729\u001b[0m     \u001b[1;32mexcept\u001b[0m \u001b[0mKeyError\u001b[0m \u001b[1;32mas\u001b[0m \u001b[0me\u001b[0m\u001b[1;33m:\u001b[0m\u001b[1;33m\u001b[0m\u001b[1;33m\u001b[0m\u001b[0m\n",
      "\u001b[1;31mKeyError\u001b[0m: 6",
      "\nThe above exception was the direct cause of the following exception:\n",
      "\u001b[1;31mNetworkXNoPath\u001b[0m                            Traceback (most recent call last)",
      "\u001b[1;32m<ipython-input-433-626b9e52a4b1>\u001b[0m in \u001b[0;36m<module>\u001b[1;34m\u001b[0m\n\u001b[0;32m      1\u001b[0m \u001b[1;32mfor\u001b[0m \u001b[0me\u001b[0m \u001b[1;32min\u001b[0m  \u001b[0mthe_edges\u001b[0m\u001b[1;33m[\u001b[0m\u001b[0mselected\u001b[0m\u001b[1;33m]\u001b[0m\u001b[1;33m:\u001b[0m\u001b[1;33m\u001b[0m\u001b[1;33m\u001b[0m\u001b[0m\n\u001b[0;32m      2\u001b[0m     \u001b[0mG\u001b[0m\u001b[1;33m.\u001b[0m\u001b[0mremove_edge\u001b[0m\u001b[1;33m(\u001b[0m\u001b[0me\u001b[0m\u001b[1;33m[\u001b[0m\u001b[1;36m0\u001b[0m\u001b[1;33m]\u001b[0m\u001b[1;33m,\u001b[0m \u001b[0me\u001b[0m\u001b[1;33m[\u001b[0m\u001b[1;36m1\u001b[0m\u001b[1;33m]\u001b[0m\u001b[1;33m)\u001b[0m\u001b[1;33m\u001b[0m\u001b[1;33m\u001b[0m\u001b[0m\n\u001b[1;32m----> 3\u001b[1;33m \u001b[0mnx\u001b[0m\u001b[1;33m.\u001b[0m\u001b[0mshortest_path\u001b[0m\u001b[1;33m(\u001b[0m\u001b[0mG\u001b[0m\u001b[1;33m,\u001b[0m \u001b[1;36m0\u001b[0m\u001b[1;33m,\u001b[0m \u001b[1;36m6\u001b[0m\u001b[1;33m,\u001b[0m \u001b[0mweight\u001b[0m \u001b[1;33m=\u001b[0m \u001b[1;34m\"weight\"\u001b[0m\u001b[1;33m)\u001b[0m\u001b[1;33m\u001b[0m\u001b[1;33m\u001b[0m\u001b[0m\n\u001b[0m",
      "\u001b[1;32m~\\Anaconda3\\lib\\site-packages\\networkx\\algorithms\\shortest_paths\\generic.py\u001b[0m in \u001b[0;36mshortest_path\u001b[1;34m(G, source, target, weight, method)\u001b[0m\n\u001b[0;32m    160\u001b[0m                 \u001b[0mpaths\u001b[0m \u001b[1;33m=\u001b[0m \u001b[0mnx\u001b[0m\u001b[1;33m.\u001b[0m\u001b[0mbidirectional_shortest_path\u001b[0m\u001b[1;33m(\u001b[0m\u001b[0mG\u001b[0m\u001b[1;33m,\u001b[0m \u001b[0msource\u001b[0m\u001b[1;33m,\u001b[0m \u001b[0mtarget\u001b[0m\u001b[1;33m)\u001b[0m\u001b[1;33m\u001b[0m\u001b[1;33m\u001b[0m\u001b[0m\n\u001b[0;32m    161\u001b[0m             \u001b[1;32melif\u001b[0m \u001b[0mmethod\u001b[0m \u001b[1;33m==\u001b[0m \u001b[1;34m\"dijkstra\"\u001b[0m\u001b[1;33m:\u001b[0m\u001b[1;33m\u001b[0m\u001b[1;33m\u001b[0m\u001b[0m\n\u001b[1;32m--> 162\u001b[1;33m                 \u001b[0mpaths\u001b[0m \u001b[1;33m=\u001b[0m \u001b[0mnx\u001b[0m\u001b[1;33m.\u001b[0m\u001b[0mdijkstra_path\u001b[0m\u001b[1;33m(\u001b[0m\u001b[0mG\u001b[0m\u001b[1;33m,\u001b[0m \u001b[0msource\u001b[0m\u001b[1;33m,\u001b[0m \u001b[0mtarget\u001b[0m\u001b[1;33m,\u001b[0m \u001b[0mweight\u001b[0m\u001b[1;33m)\u001b[0m\u001b[1;33m\u001b[0m\u001b[1;33m\u001b[0m\u001b[0m\n\u001b[0m\u001b[0;32m    163\u001b[0m             \u001b[1;32melse\u001b[0m\u001b[1;33m:\u001b[0m  \u001b[1;31m# method == 'bellman-ford':\u001b[0m\u001b[1;33m\u001b[0m\u001b[1;33m\u001b[0m\u001b[0m\n\u001b[0;32m    164\u001b[0m                 \u001b[0mpaths\u001b[0m \u001b[1;33m=\u001b[0m \u001b[0mnx\u001b[0m\u001b[1;33m.\u001b[0m\u001b[0mbellman_ford_path\u001b[0m\u001b[1;33m(\u001b[0m\u001b[0mG\u001b[0m\u001b[1;33m,\u001b[0m \u001b[0msource\u001b[0m\u001b[1;33m,\u001b[0m \u001b[0mtarget\u001b[0m\u001b[1;33m,\u001b[0m \u001b[0mweight\u001b[0m\u001b[1;33m)\u001b[0m\u001b[1;33m\u001b[0m\u001b[1;33m\u001b[0m\u001b[0m\n",
      "\u001b[1;32m~\\Anaconda3\\lib\\site-packages\\networkx\\algorithms\\shortest_paths\\weighted.py\u001b[0m in \u001b[0;36mdijkstra_path\u001b[1;34m(G, source, target, weight)\u001b[0m\n\u001b[0;32m    155\u001b[0m     \u001b[0msingle_source_dijkstra\u001b[0m\u001b[1;33m(\u001b[0m\u001b[1;33m)\u001b[0m\u001b[1;33m\u001b[0m\u001b[1;33m\u001b[0m\u001b[0m\n\u001b[0;32m    156\u001b[0m     \"\"\"\n\u001b[1;32m--> 157\u001b[1;33m     \u001b[1;33m(\u001b[0m\u001b[0mlength\u001b[0m\u001b[1;33m,\u001b[0m \u001b[0mpath\u001b[0m\u001b[1;33m)\u001b[0m \u001b[1;33m=\u001b[0m \u001b[0msingle_source_dijkstra\u001b[0m\u001b[1;33m(\u001b[0m\u001b[0mG\u001b[0m\u001b[1;33m,\u001b[0m \u001b[0msource\u001b[0m\u001b[1;33m,\u001b[0m \u001b[0mtarget\u001b[0m\u001b[1;33m=\u001b[0m\u001b[0mtarget\u001b[0m\u001b[1;33m,\u001b[0m \u001b[0mweight\u001b[0m\u001b[1;33m=\u001b[0m\u001b[0mweight\u001b[0m\u001b[1;33m)\u001b[0m\u001b[1;33m\u001b[0m\u001b[1;33m\u001b[0m\u001b[0m\n\u001b[0m\u001b[0;32m    158\u001b[0m     \u001b[1;32mreturn\u001b[0m \u001b[0mpath\u001b[0m\u001b[1;33m\u001b[0m\u001b[1;33m\u001b[0m\u001b[0m\n\u001b[0;32m    159\u001b[0m \u001b[1;33m\u001b[0m\u001b[0m\n",
      "\u001b[1;32m~\\Anaconda3\\lib\\site-packages\\networkx\\algorithms\\shortest_paths\\weighted.py\u001b[0m in \u001b[0;36msingle_source_dijkstra\u001b[1;34m(G, source, target, cutoff, weight)\u001b[0m\n\u001b[0;32m    463\u001b[0m     \"\"\"\n\u001b[0;32m    464\u001b[0m     return multi_source_dijkstra(\n\u001b[1;32m--> 465\u001b[1;33m         \u001b[0mG\u001b[0m\u001b[1;33m,\u001b[0m \u001b[1;33m{\u001b[0m\u001b[0msource\u001b[0m\u001b[1;33m}\u001b[0m\u001b[1;33m,\u001b[0m \u001b[0mcutoff\u001b[0m\u001b[1;33m=\u001b[0m\u001b[0mcutoff\u001b[0m\u001b[1;33m,\u001b[0m \u001b[0mtarget\u001b[0m\u001b[1;33m=\u001b[0m\u001b[0mtarget\u001b[0m\u001b[1;33m,\u001b[0m \u001b[0mweight\u001b[0m\u001b[1;33m=\u001b[0m\u001b[0mweight\u001b[0m\u001b[1;33m\u001b[0m\u001b[1;33m\u001b[0m\u001b[0m\n\u001b[0m\u001b[0;32m    466\u001b[0m     )\n\u001b[0;32m    467\u001b[0m \u001b[1;33m\u001b[0m\u001b[0m\n",
      "\u001b[1;32m~\\Anaconda3\\lib\\site-packages\\networkx\\algorithms\\shortest_paths\\weighted.py\u001b[0m in \u001b[0;36mmulti_source_dijkstra\u001b[1;34m(G, sources, target, cutoff, weight)\u001b[0m\n\u001b[0;32m    728\u001b[0m         \u001b[1;32mreturn\u001b[0m \u001b[1;33m(\u001b[0m\u001b[0mdist\u001b[0m\u001b[1;33m[\u001b[0m\u001b[0mtarget\u001b[0m\u001b[1;33m]\u001b[0m\u001b[1;33m,\u001b[0m \u001b[0mpaths\u001b[0m\u001b[1;33m[\u001b[0m\u001b[0mtarget\u001b[0m\u001b[1;33m]\u001b[0m\u001b[1;33m)\u001b[0m\u001b[1;33m\u001b[0m\u001b[1;33m\u001b[0m\u001b[0m\n\u001b[0;32m    729\u001b[0m     \u001b[1;32mexcept\u001b[0m \u001b[0mKeyError\u001b[0m \u001b[1;32mas\u001b[0m \u001b[0me\u001b[0m\u001b[1;33m:\u001b[0m\u001b[1;33m\u001b[0m\u001b[1;33m\u001b[0m\u001b[0m\n\u001b[1;32m--> 730\u001b[1;33m         \u001b[1;32mraise\u001b[0m \u001b[0mnx\u001b[0m\u001b[1;33m.\u001b[0m\u001b[0mNetworkXNoPath\u001b[0m\u001b[1;33m(\u001b[0m\u001b[1;34mf\"No path to {target}.\"\u001b[0m\u001b[1;33m)\u001b[0m \u001b[1;32mfrom\u001b[0m \u001b[0me\u001b[0m\u001b[1;33m\u001b[0m\u001b[1;33m\u001b[0m\u001b[0m\n\u001b[0m\u001b[0;32m    731\u001b[0m \u001b[1;33m\u001b[0m\u001b[0m\n\u001b[0;32m    732\u001b[0m \u001b[1;33m\u001b[0m\u001b[0m\n",
      "\u001b[1;31mNetworkXNoPath\u001b[0m: No path to 6."
     ]
    }
   ],
   "source": [
    "for e in  the_edges[selected]:\n",
    "    G.remove_edge(e[0], e[1])\n",
    "nx.shortest_path(G, 0, 6, weight = \"weight\")"
   ]
  },
  {
   "cell_type": "code",
   "execution_count": 394,
   "metadata": {},
   "outputs": [
    {
     "data": {
      "text/plain": [
       "10000000000"
      ]
     },
     "execution_count": 394,
     "metadata": {},
     "output_type": "execute_result"
    }
   ],
   "source": [
    "10**10"
   ]
  },
  {
   "cell_type": "code",
   "execution_count": 502,
   "metadata": {},
   "outputs": [
    {
     "name": "stdout",
     "output_type": "stream",
     "text": [
      "Error code 10003: Invalid argument to QuadExpr multiplication\n"
     ]
    }
   ],
   "source": [
    "import gurobipy as gp\n",
    "from gurobipy import GRB\n",
    "\n",
    "try:\n",
    "\n",
    "    # Create a new model\n",
    "    m = gp.Model(\"mip1\")\n",
    "\n",
    "    # Create variables\n",
    "    x = m.addVar(vtype=GRB.BINARY)\n",
    "    y = m.addVar(vtype=GRB.BINARY)\n",
    "    z = m.addVar(vtype=GRB.BINARY)\n",
    "    \n",
    "\n",
    "    # Set objective\n",
    "    m.setObjective(x + y + 2 * z, GRB.MAXIMIZE)\n",
    "\n",
    "    # Add constraint: x + 2 y + 3 z <= 4\n",
    "    m.addConstr(x + 2 * y + 3 * z <= 4, \"c0\")\n",
    "\n",
    "    # Add constraint: x + y >= 1\n",
    "    m.addConstr(x + y >= 1, \"c1\")\n",
    "    m.addQConstr(x * z + x*y* z >= 1, \"c2\")\n",
    "    \n",
    "\n",
    "    # Optimize model\n",
    "    m.optimize()\n",
    "\n",
    "    for v in m.getVars():\n",
    "        print('%s %g' % (v.varName, v.x))\n",
    "\n",
    "    print('Obj: %g' % m.objVal)\n",
    "\n",
    "except gp.GurobiError as e:\n",
    "    print('Error code ' + str(e.errno) + ': ' + str(e))\n",
    "\n",
    "except AttributeError:\n",
    "    print('Encountered an attribute error')"
   ]
  },
  {
   "cell_type": "code",
   "execution_count": null,
   "metadata": {},
   "outputs": [],
   "source": []
  }
 ],
 "metadata": {
  "kernelspec": {
   "display_name": "Python 3",
   "language": "python",
   "name": "python3"
  },
  "language_info": {
   "codemirror_mode": {
    "name": "ipython",
    "version": 3
   },
   "file_extension": ".py",
   "mimetype": "text/x-python",
   "name": "python",
   "nbconvert_exporter": "python",
   "pygments_lexer": "ipython3",
   "version": "3.7.3"
  }
 },
 "nbformat": 4,
 "nbformat_minor": 4
}
