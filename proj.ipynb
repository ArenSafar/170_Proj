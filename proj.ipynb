{
 "cells": [
  {
   "cell_type": "code",
   "execution_count": 9,
   "metadata": {},
   "outputs": [],
   "source": [
    "import numpy as np\n",
    "from parse import write_input_file, read_input_file\n",
    "import networkx as nx\n"
   ]
  },
  {
   "cell_type": "code",
   "execution_count": 10,
   "metadata": {},
   "outputs": [],
   "source": [
    "# def generate2(M):\n",
    "#     for v in len(M):\n",
    "        \n",
    "#         a = list(range(0,p)) + list(range(p+1, V))\n",
    "#         rnds = np.random.choice(a, 2, replace = False)\n",
    "#         rt1 = str(p) + \" \" + str(rnds[0]) + \" \" + str(round(np.random.uniform(0,1),3)) + \"\\n\"\n",
    "#         rt2 = str(p) + \" \" + str(rnds[1]) + \" \" + str(round(np.random.uniform(0,1),3)) + \"\\n\"\n",
    "#     return rt1+rt2\n",
    "    \n",
    "# def create_graph(V):\n",
    "#     M = np.zeros((V,V))\n",
    "#     data = str(V)+\"\\n\"\n",
    "#     for v in range(V):\n",
    "#         indxs = np.where(M[v] != 1)\n",
    "#         msk = np.random.choice(indxs[0], int(0.85*len(M[v])), replace = False)\n",
    "#         M[v][msk] = 1\n",
    "    \n",
    "#     utl = np.tril_indices(V, -1)\n",
    "#     M[utl] = 0\n",
    "#     checker = {}\n",
    "#     uti = np.tril_indices(V, 1)\n",
    "#     for row in range( V):\n",
    "#         for col in range(row+1, V):\n",
    "#             if M[row][col] : \n",
    "#                 M[col][row] = 1\n",
    "                \n",
    "#                 checker[col] = checker [col] + 1 if col in checker else 1\n",
    "#                 checker[row] = checker [row] + 1 if row in checker else 1\n",
    "#                 weight = np.random.uniform(0, 100)\n",
    "#                 data += str(row)+ \" \"+ str(col) + \" \" + str(round(weight, 2)) + \"\\n\"\n",
    "                \n",
    "#     for x in range(V):\n",
    "#         if x not in checker or checker[x] < 2 :\n",
    "#             return None, None\n",
    "            \n",
    "#     return M, data"
   ]
  },
  {
   "cell_type": "code",
   "execution_count": 11,
   "metadata": {},
   "outputs": [],
   "source": [
    "def generate_rnd_edges(n, portion):\n",
    "   \n",
    "    # upper triangular indicies with diagonal offset 1 (diagonal elements are not included)\n",
    "    iu1 = np.triu_indices(n, 1)\n",
    "    \n",
    "    # choose randomly number of portion of the possible edges\n",
    "    msk = np.random.choice(len(iu1[0]), int(portion*len(iu1[0])), replace = False)\n",
    "    \n",
    "    masked = (iu1[0][msk], iu1[1][msk])\n",
    "    a = np.zeros((n,n))\n",
    "    \n",
    "    # trigger the randomly chosen edges\n",
    "    a[masked] = 1\n",
    "    \n",
    "    indicies = np.where(a>0)\n",
    "    \n",
    "    # mirror upper triangle to lower\n",
    "    a[(masked[1], masked[0])] = 1\n",
    "    \n",
    "    assert(np.array_equal (a, a.T))\n",
    "    print(a)\n",
    "    # check if any of the nodes have degree less than 2\n",
    "    indcs = np.where (np.sum(a, axis = 0) < 2)\n",
    "    if len(indcs[0]) :\n",
    "        print(\"These nodes have degree less than two! : \", indcs)\n",
    "        \n",
    "    edges = list(zip(indicies[0],indicies[1]))\n",
    "    for i in range(len(edges)) :\n",
    "        weight = round(np.random.uniform(0.001, 99.999, ), 3)\n",
    "        edges[i] = (edges[i][0], edges[i][1], {'weight' : weight})\n",
    "        \n",
    "    return edges\n"
   ]
  },
  {
   "cell_type": "code",
   "execution_count": 12,
   "metadata": {},
   "outputs": [
    {
     "name": "stdout",
     "output_type": "stream",
     "text": [
      "[[0. 1. 1. 1. 1. 1. 0. 1. 1. 1. 1. 1. 1. 1. 0. 1. 0. 1. 1. 0. 1. 1. 1. 1.\n",
      "  1. 1. 1. 1. 1. 1.]\n",
      " [1. 0. 1. 1. 0. 1. 0. 1. 0. 1. 1. 0. 0. 1. 1. 1. 1. 0. 1. 1. 0. 1. 1. 1.\n",
      "  1. 1. 1. 1. 1. 1.]\n",
      " [1. 1. 0. 1. 1. 1. 1. 1. 1. 1. 1. 1. 1. 1. 1. 1. 1. 1. 1. 1. 1. 1. 1. 1.\n",
      "  0. 1. 1. 1. 0. 1.]\n",
      " [1. 1. 1. 0. 1. 1. 0. 1. 1. 1. 1. 1. 1. 0. 1. 1. 1. 1. 1. 1. 1. 1. 1. 0.\n",
      "  1. 1. 1. 1. 0. 1.]\n",
      " [1. 0. 1. 1. 0. 1. 1. 1. 0. 1. 1. 0. 1. 1. 1. 1. 0. 1. 1. 1. 0. 1. 1. 1.\n",
      "  1. 0. 1. 1. 1. 1.]\n",
      " [1. 1. 1. 1. 1. 0. 0. 1. 1. 1. 1. 1. 1. 1. 1. 0. 0. 1. 1. 0. 1. 1. 1. 1.\n",
      "  0. 1. 0. 1. 1. 1.]\n",
      " [0. 0. 1. 0. 1. 0. 0. 1. 1. 1. 1. 1. 1. 1. 1. 1. 1. 1. 1. 1. 1. 1. 0. 0.\n",
      "  1. 1. 0. 1. 0. 1.]\n",
      " [1. 1. 1. 1. 1. 1. 1. 0. 1. 1. 0. 0. 1. 1. 1. 1. 1. 1. 1. 0. 1. 1. 1. 1.\n",
      "  1. 1. 1. 1. 1. 1.]\n",
      " [1. 0. 1. 1. 0. 1. 1. 1. 0. 1. 1. 1. 1. 1. 1. 1. 1. 1. 1. 1. 1. 1. 1. 1.\n",
      "  1. 1. 1. 1. 1. 1.]\n",
      " [1. 1. 1. 1. 1. 1. 1. 1. 1. 0. 0. 1. 1. 1. 1. 1. 1. 1. 1. 1. 1. 1. 1. 1.\n",
      "  1. 1. 1. 0. 0. 1.]\n",
      " [1. 1. 1. 1. 1. 1. 1. 0. 1. 0. 0. 1. 1. 1. 1. 0. 1. 1. 1. 1. 1. 1. 1. 1.\n",
      "  1. 1. 1. 1. 1. 1.]\n",
      " [1. 0. 1. 1. 0. 1. 1. 0. 1. 1. 1. 0. 1. 1. 1. 1. 1. 1. 1. 0. 1. 1. 1. 1.\n",
      "  1. 1. 1. 1. 1. 1.]\n",
      " [1. 0. 1. 1. 1. 1. 1. 1. 1. 1. 1. 1. 0. 1. 1. 1. 1. 0. 1. 1. 1. 0. 1. 1.\n",
      "  1. 1. 1. 0. 1. 1.]\n",
      " [1. 1. 1. 0. 1. 1. 1. 1. 1. 1. 1. 1. 1. 0. 0. 1. 1. 1. 1. 1. 1. 1. 1. 1.\n",
      "  1. 1. 0. 1. 1. 1.]\n",
      " [0. 1. 1. 1. 1. 1. 1. 1. 1. 1. 1. 1. 1. 0. 0. 1. 1. 1. 1. 1. 1. 1. 1. 1.\n",
      "  1. 1. 1. 1. 1. 1.]\n",
      " [1. 1. 1. 1. 1. 0. 1. 1. 1. 1. 0. 1. 1. 1. 1. 0. 0. 0. 1. 1. 1. 1. 1. 1.\n",
      "  1. 1. 1. 1. 1. 1.]\n",
      " [0. 1. 1. 1. 0. 0. 1. 1. 1. 1. 1. 1. 1. 1. 1. 0. 0. 1. 1. 1. 1. 1. 1. 1.\n",
      "  1. 1. 1. 0. 1. 0.]\n",
      " [1. 0. 1. 1. 1. 1. 1. 1. 1. 1. 1. 1. 0. 1. 1. 0. 1. 0. 1. 1. 0. 1. 1. 1.\n",
      "  0. 1. 1. 1. 0. 1.]\n",
      " [1. 1. 1. 1. 1. 1. 1. 1. 1. 1. 1. 1. 1. 1. 1. 1. 1. 1. 0. 1. 1. 1. 1. 1.\n",
      "  1. 1. 1. 1. 1. 1.]\n",
      " [0. 1. 1. 1. 1. 0. 1. 0. 1. 1. 1. 0. 1. 1. 1. 1. 1. 1. 1. 0. 1. 1. 1. 1.\n",
      "  1. 0. 1. 1. 1. 1.]\n",
      " [1. 0. 1. 1. 0. 1. 1. 1. 1. 1. 1. 1. 1. 1. 1. 1. 1. 0. 1. 1. 0. 1. 0. 1.\n",
      "  1. 1. 1. 1. 1. 0.]\n",
      " [1. 1. 1. 1. 1. 1. 1. 1. 1. 1. 1. 1. 0. 1. 1. 1. 1. 1. 1. 1. 1. 0. 1. 1.\n",
      "  0. 0. 1. 0. 0. 1.]\n",
      " [1. 1. 1. 1. 1. 1. 0. 1. 1. 1. 1. 1. 1. 1. 1. 1. 1. 1. 1. 1. 0. 1. 0. 1.\n",
      "  0. 1. 1. 1. 1. 0.]\n",
      " [1. 1. 1. 0. 1. 1. 0. 1. 1. 1. 1. 1. 1. 1. 1. 1. 1. 1. 1. 1. 1. 1. 1. 0.\n",
      "  1. 0. 1. 1. 1. 0.]\n",
      " [1. 1. 0. 1. 1. 0. 1. 1. 1. 1. 1. 1. 1. 1. 1. 1. 1. 0. 1. 1. 1. 0. 0. 1.\n",
      "  0. 1. 1. 1. 1. 1.]\n",
      " [1. 1. 1. 1. 0. 1. 1. 1. 1. 1. 1. 1. 1. 1. 1. 1. 1. 1. 1. 0. 1. 0. 1. 0.\n",
      "  1. 0. 0. 1. 0. 1.]\n",
      " [1. 1. 1. 1. 1. 0. 0. 1. 1. 1. 1. 1. 1. 0. 1. 1. 1. 1. 1. 1. 1. 1. 1. 1.\n",
      "  1. 0. 0. 1. 0. 1.]\n",
      " [1. 1. 1. 1. 1. 1. 1. 1. 1. 0. 1. 1. 0. 1. 1. 1. 0. 1. 1. 1. 1. 0. 1. 1.\n",
      "  1. 1. 1. 0. 1. 1.]\n",
      " [1. 1. 0. 0. 1. 1. 0. 1. 1. 0. 1. 1. 1. 1. 1. 1. 1. 0. 1. 1. 1. 0. 1. 1.\n",
      "  1. 0. 0. 1. 0. 1.]\n",
      " [1. 1. 1. 1. 1. 1. 1. 1. 1. 1. 1. 1. 1. 1. 1. 1. 0. 1. 1. 1. 0. 1. 0. 0.\n",
      "  1. 1. 1. 1. 1. 0.]]\n",
      "[[0. 1. 1. ... 1. 1. 1.]\n",
      " [1. 0. 0. ... 1. 1. 1.]\n",
      " [1. 0. 0. ... 1. 0. 1.]\n",
      " ...\n",
      " [1. 1. 1. ... 0. 1. 1.]\n",
      " [1. 1. 0. ... 1. 0. 1.]\n",
      " [1. 1. 1. ... 1. 1. 0.]]\n",
      "[[0. 0. 1. ... 1. 1. 1.]\n",
      " [0. 0. 1. ... 1. 0. 1.]\n",
      " [1. 1. 0. ... 0. 1. 1.]\n",
      " ...\n",
      " [1. 1. 0. ... 0. 1. 1.]\n",
      " [1. 0. 1. ... 1. 0. 1.]\n",
      " [1. 1. 1. ... 1. 1. 0.]]\n"
     ]
    }
   ],
   "source": [
    "thirty = generate_rnd_edges(30, 0.85)\n",
    "fifty = generate_rnd_edges(50, 0.85)\n",
    "hundred = generate_rnd_edges(100, 0.85)\n",
    "\n",
    "G = nx.Graph()\n",
    "G.add_edges_from(thirty)\n",
    "path1 = \"30.in\"\n",
    "write_input_file(G, path1)\n",
    "\n",
    "G.clear()\n",
    "G.add_edges_from(fifty)\n",
    "path2 = \"50.in\"\n",
    "write_input_file(G, path2)\n",
    "\n",
    "G.clear()\n",
    "G.add_edges_from(hundred)\n",
    "path3 = \"100.in\"\n",
    "write_input_file(G, path3)\n"
   ]
  },
  {
   "cell_type": "code",
   "execution_count": 13,
   "metadata": {},
   "outputs": [
    {
     "data": {
      "text/plain": [
       "<networkx.classes.graph.Graph at 0x24985423198>"
      ]
     },
     "execution_count": 13,
     "metadata": {},
     "output_type": "execute_result"
    }
   ],
   "source": [
    "read_input_file(path1)\n",
    "read_input_file(path2)\n",
    "read_input_file(path3)"
   ]
  },
  {
   "cell_type": "code",
   "execution_count": 15,
   "metadata": {},
   "outputs": [
    {
     "name": "stdout",
     "output_type": "stream",
     "text": [
      "[[0. 1. 1. ... 0. 0. 0.]\n",
      " [1. 0. 1. ... 1. 1. 0.]\n",
      " [1. 1. 0. ... 1. 1. 0.]\n",
      " ...\n",
      " [0. 1. 1. ... 0. 1. 0.]\n",
      " [0. 1. 1. ... 1. 0. 1.]\n",
      " [0. 0. 0. ... 0. 1. 0.]]\n"
     ]
    },
    {
     "data": {
      "image/png": "[encoded data removed]",
      "text/plain": [
       "<Figure size 432x288 with 1 Axes>"
      ]
     },
     "metadata": {},
     "output_type": "display_data"
    }
   ],
   "source": [
    "ZZ = generate_rnd_edges(100, 0.55)\n",
    "G.clear()\n",
    "G.add_edges_from(ZZ)\n",
    "nx.draw_networkx(G)"
   ]
  },
  {
   "cell_type": "code",
   "execution_count": null,
   "metadata": {},
   "outputs": [],
   "source": [
    "from mip import Model, xsum, maximize, BINARY"
   ]
  },
  {
   "cell_type": "code",
   "execution_count": null,
   "metadata": {},
   "outputs": [],
   "source": [
    "G.clear()\n",
    "\n",
    "G.add_edge(0, 1, weight = 2)\n",
    "G.add_edge(0, 3, weight = 9)\n",
    "G.add_edge(0, 4, weight = 3)\n",
    "G.add_edge(1, 2, weight = 4)\n",
    "G.add_edge(2, 3, weight = 1)\n",
    "G.add_edge(1, 3, weight = 3)\n",
    "G.add_edge(1, 4, weight = 8)\n",
    "G.add_edge(2, 5, weight = 9)\n",
    "G.add_edge(2, 6, weight = 2)\n",
    "G.add_edge(3, 4, weight = 1)\n",
    "G.add_edge(3, 5, weight = 2)\n",
    "G.add_edge(4, 5, weight = 2)\n",
    "G.add_edge(3, 6, weight = 6)\n",
    "G.add_edge(5, 6, weight = 4)\n",
    "nx.draw_networkx(G)"
   ]
  },
  {
   "cell_type": "code",
   "execution_count": null,
   "metadata": {},
   "outputs": [],
   "source": [
    "# G.add_edge(10, 9)\n",
    "# G.add_edge(12, 13)\n",
    "# print(nx.shortest_path(G, 12, 0))\n",
    "# nx.draw_networkx(G)"
   ]
  },
  {
   "cell_type": "code",
   "execution_count": null,
   "metadata": {},
   "outputs": [],
   "source": [
    "# aaa = nx.shortest_simple_paths(G, 0, 6, weight = \"weight\")\n",
    "# # p = 3\n",
    "# # print(nx.shortest_path(G, 0, 6, weight = \"weight\"))\n",
    "# bests = []\n",
    "# un = []\n",
    "# for i, path in enumerate(map(nx.utils.pairwise, aaa)):\n",
    "# #     if  i == p:\n",
    "# #         break\n",
    "#     zz = list(path)\n",
    "#     bests.append(zz)\n",
    "#     un += zz\n",
    "# # print(len(bests))\n",
    "# the_edges = np.unique(un, axis = 0)\n",
    "# # print(the_edges)"
   ]
  },
  {
   "cell_type": "code",
   "execution_count": null,
   "metadata": {},
   "outputs": [],
   "source": [
    "from mip import Model, xsum, minimize,maximize, BINARY\n",
    "import math\n",
    "V = 7\n",
    "m = Model()\n",
    "# print(len(the_edges))\n",
    "x = [m.add_var(var_type=BINARY) for i in range(len(the_edges))]\n",
    "\n",
    "z = m.add_var('z')\n",
    "pp = m.add_var('pp')\n",
    "\n",
    "m.objective = maximize(z)\n",
    "\n",
    "\n",
    "m += xsum(x[i] for i in range(len(the_edges))) == 1\n",
    "\n",
    "for i, l in enumerate(bests):\n",
    "    \n",
    "    m += z <= xsum((G[e[0]][e[1]]['weight'] + (100*(V - 1) * x[np.where(np.all(the_edges == e, axis = 1))[0][0]]))\n",
    "              for e in l)\n",
    "    \n",
    "    m += pp <= xsum(\n",
    "        x[np.where(np.all(the_edges == e, axis = 1))[0][0]]\n",
    "        for e in l)\n",
    "\n",
    "# m += xsum(-(-y[i]//len(bests[i])) for i in range(len(y))) <= (len(bests) - 1)\n",
    "m += pp == 0\n",
    "# m += xsum(y[i]/y[i] for i in range(len(y))) <= (len(bests) - 1)\n",
    "\n",
    "m.optimize()\n",
    "selected = [i for i in range(len(the_edges)) if x[i].x >= 0.99]\n",
    "print(\"selected items: {}\".format(selected))\n",
    "the_edges[selected]"
   ]
  },
  {
   "cell_type": "code",
   "execution_count": null,
   "metadata": {},
   "outputs": [],
   "source": [
    "G = nx.Graph()"
   ]
  },
  {
   "cell_type": "code",
   "execution_count": 45,
   "metadata": {
    "scrolled": true
   },
   "outputs": [
    {
     "name": "stdout",
     "output_type": "stream",
     "text": [
      "[[0. 1. 1. 1. 1. 1. 1. 1. 1. 1.]\n",
      " [1. 0. 1. 1. 1. 0. 1. 1. 0. 1.]\n",
      " [1. 1. 0. 0. 0. 1. 1. 1. 1. 1.]\n",
      " [1. 1. 0. 0. 0. 1. 1. 1. 1. 0.]\n",
      " [1. 1. 0. 0. 0. 0. 1. 1. 1. 1.]\n",
      " [1. 0. 1. 1. 0. 0. 1. 1. 1. 1.]\n",
      " [1. 1. 1. 1. 1. 1. 0. 1. 1. 1.]\n",
      " [1. 1. 1. 1. 1. 1. 1. 0. 1. 1.]\n",
      " [1. 0. 1. 1. 1. 1. 1. 1. 0. 1.]\n",
      " [1. 1. 1. 0. 1. 1. 1. 1. 1. 0.]]\n"
     ]
    },
    {
     "data": {
      "text/plain": [
       "NodeView((0, 1, 2, 3, 4, 5, 6, 7, 8, 9))"
      ]
     },
     "execution_count": 45,
     "metadata": {},
     "output_type": "execute_result"
    },
    {
     "data": {
      "image/png": "[encoded data removed]",
      "text/plain": [
       "<Figure size 432x288 with 1 Axes>"
      ]
     },
     "metadata": {},
     "output_type": "display_data"
    }
   ],
   "source": [
    "ZZ = generate_rnd_edges(10,0.85)\n",
    "G.clear()\n",
    "G.add_edges_from(ZZ)\n",
    "nx.draw_networkx(G)\n",
    "G.nodes()"
   ]
  },
  {
   "cell_type": "code",
   "execution_count": 46,
   "metadata": {},
   "outputs": [
    {
     "name": "stdout",
     "output_type": "stream",
     "text": [
      "29.037000000000003\n"
     ]
    },
    {
     "data": {
      "text/plain": [
       "array([0, 1, 2, 3, 4, 5, 6, 7, 8, 9], dtype=int64)"
      ]
     },
     "execution_count": 46,
     "metadata": {},
     "output_type": "execute_result"
    }
   ],
   "source": [
    "aaa = nx.shortest_simple_paths(G, 0, 9, weight = \"weight\")\n",
    "p = 500\n",
    "print(nx.dijkstra_path_length(G, 0, 9, weight = \"weight\"))\n",
    "bests = []\n",
    "un = []\n",
    "for i, path in enumerate(map(nx.utils.pairwise, aaa)):\n",
    "    if  i == p:\n",
    "        break\n",
    "    zz = np.sort(list(path), axis = 1)\n",
    "    bests.append(zz)\n",
    "    un = np.concatenate((un, zz)) if len(un) else zz\n",
    "# print(len(bests))\n",
    "the_edges = np.unique(un, axis = 0)\n",
    "u_nodes = np.unique(un)\n",
    "u_nodes"
   ]
  },
  {
   "cell_type": "code",
   "execution_count": 50,
   "metadata": {},
   "outputs": [
    {
     "data": {
      "text/plain": [
       "array([55, 92, 96, 79, 42])"
      ]
     },
     "execution_count": 50,
     "metadata": {},
     "output_type": "execute_result"
    }
   ],
   "source": [
    "np.random.choice(np.arange(1,99), size = 5, replace = False)"
   ]
  },
  {
   "cell_type": "code",
   "execution_count": 38,
   "metadata": {},
   "outputs": [
    {
     "name": "stdout",
     "output_type": "stream",
     "text": [
      "Gurobi Optimizer version 9.1.2 build v9.1.2rc0 (win64)\n",
      "Thread count: 4 physical cores, 8 logical processors, using up to 8 threads\n",
      "Optimize a model with 502 rows, 747 columns and 5426 nonzeros\n",
      "Model fingerprint: 0xb2d7793c\n",
      "Model has 1000 general constraints\n",
      "Variable types: 1 continuous, 746 integer (746 binary)\n",
      "Coefficient statistics:\n",
      "  Matrix range     [1e+00, 1e+04]\n",
      "  Objective range  [1e+00, 1e+00]\n",
      "  Bounds range     [1e+00, 1e+00]\n",
      "  RHS range        [9e+00, 5e+02]\n",
      "Presolve added 998 rows and 0 columns\n",
      "Presolve removed 0 rows and 95 columns\n",
      "Presolve time: 0.09s\n",
      "Presolved: 1500 rows, 652 columns, 14799 nonzeros\n",
      "Variable types: 1 continuous, 651 integer (635 binary)\n",
      "Found heuristic solution: objective 13.5380000\n",
      "Found heuristic solution: objective 13.6460000\n",
      "Found heuristic solution: objective 13.9070000\n",
      "Found heuristic solution: objective 15.8520000\n",
      "\n",
      "Root relaxation: objective 1.001354e+04, 556 iterations, 0.00 seconds\n",
      "\n",
      "    Nodes    |    Current Node    |     Objective Bounds      |     Work\n",
      " Expl Unexpl |  Obj  Depth IntInf | Incumbent    BestBd   Gap | It/Node Time\n",
      "\n",
      "     0     0 10013.5380    0    4   15.85200 10013.5380      -     -    0s\n",
      "H    0     0                      16.2360000 10013.5380      -     -    0s\n",
      "H    0     0                      17.3460000 10013.5380      -     -    0s\n",
      "     0     0 10013.5380    0    5   17.34600 10013.5380      -     -    0s\n",
      "H    0     0                      17.3460000 10013.5380      -     -    0s\n",
      "     0     0 10013.5380    0    4   17.34600 10013.5380      -     -    0s\n",
      "     0     0 10013.5380    0    6   17.34600 10013.5380      -     -    0s\n",
      "\n",
      "Cutting planes:\n",
      "  MIR: 1\n",
      "  Relax-and-lift: 1\n",
      "\n",
      "Explored 1 nodes (650 simplex iterations) in 0.38 seconds\n",
      "Thread count was 8 (of 8 available processors)\n",
      "\n",
      "Solution count 7: 17.346 17.346 16.236 ... 13.538\n",
      "\n",
      "Optimal solution found (tolerance 1.00e-04)\n",
      "Best objective 1.734600000228e+01, best bound 1.734600000228e+01, gap 0.0000%\n",
      "selected items: [0, 1, 2, 3, 5, 6, 8, 10, 12, 20, 24, 25, 26, 27, 29, 30, 34, 38, 39, 40, 42, 44, 45, 46, 53, 55, 56, 60, 61, 63, 66, 68, 69, 70, 73, 74, 75, 76, 79, 80, 82, 83, 85, 87, 89, 90, 92, 93, 95, 97, 98, 99, 100, 102, 103, 106, 107, 108, 110, 111, 113, 117, 118, 121, 122, 124, 126, 127, 128, 130, 131, 132, 133, 136, 137, 138, 140, 141, 142, 143, 144, 145, 146, 148, 149, 150, 153, 154, 155, 157, 158, 159, 160, 161, 162, 163, 165, 167, 168, 169]\n",
      "Y:  499.0\n"
     ]
    }
   ],
   "source": [
    "import gurobipy as gp\n",
    "from gurobipy import GRB\n",
    "\n",
    "V = 100\n",
    "m = gp.Model()\n",
    "x = [m.addVar(vtype=GRB.BINARY, name = \"x{}\".format(i)) for i in range(len(the_edges))]\n",
    "y = [m.addVar(vtype=GRB.BINARY) for i in range(len(bests))]\n",
    "# n = [m.addVar(vtype=GRB.BINARY) for i in range(len(u_nodes))]\n",
    "# assign var to nodes\n",
    "\n",
    "z = m.addVar(vtype = GRB.CONTINUOUS, name = 'z')\n",
    "\n",
    "m.setObjective(z, GRB.MAXIMIZE)\n",
    "\n",
    "m.addConstr(gp.quicksum(x) == 100)\n",
    "    \n",
    "\n",
    "for i, l in enumerate(bests):\n",
    "    \n",
    "    m.addConstr(z <= gp.quicksum((G[e[0]][e[1]]['weight'] + (100* V * x[np.where(np.all(the_edges == e, axis = 1))[0][0]]))\n",
    "              for e in l)\n",
    "               )\n",
    "    \n",
    "    m.addConstr((y[i] == 1) >>\n",
    "                 (gp.quicksum(x[np.where(np.all(the_edges == e, axis = 1))[0][0]] for e in l) >= 1)\n",
    "               )\n",
    "    \n",
    "    m.addConstr((y[i] == 0) >>\n",
    "                 (gp.quicksum(x[np.where(np.all(the_edges == e, axis = 1))[0][0]] for e in l) <= 0)\n",
    "               )\n",
    "\n",
    "m.addConstr(gp.quicksum(y) <= (len(bests) - 1))\n",
    "\n",
    "m.optimize()\n",
    "selected = [i for i in range(len(the_edges)) if x[i].x >= 0.99]\n",
    "print(\"selected items: {}\".format(selected))\n",
    "print(\"Y: \",sum([yi.x for yi in y]))\n"
   ]
  },
  {
   "cell_type": "code",
   "execution_count": 39,
   "metadata": {
    "scrolled": true
   },
   "outputs": [],
   "source": [
    "for e in  the_edges[selected]:\n",
    "    G.remove_edge(e[0], e[1])"
   ]
  },
  {
   "cell_type": "code",
   "execution_count": 40,
   "metadata": {},
   "outputs": [
    {
     "data": {
      "text/plain": [
       "17.345999999999997"
      ]
     },
     "execution_count": 40,
     "metadata": {},
     "output_type": "execute_result"
    }
   ],
   "source": [
    "\n",
    "nx.dijkstra_path_length(G, 0, 9, weight = \"weight\")"
   ]
  },
  {
   "cell_type": "code",
   "execution_count": 633,
   "metadata": {},
   "outputs": [
    {
     "name": "stdout",
     "output_type": "stream",
     "text": [
      "Gurobi Optimizer version 9.1.2 build v9.1.2rc0 (win64)\n",
      "Thread count: 4 physical cores, 8 logical processors, using up to 8 threads\n",
      "Optimize a model with 1 rows, 8 columns and 2 nonzeros\n",
      "Model fingerprint: 0x0ca6e4df\n",
      "Model has 2 general constraints\n",
      "Variable types: 0 continuous, 8 integer (8 binary)\n",
      "Coefficient statistics:\n",
      "  Matrix range     [1e+00, 1e+00]\n",
      "  Objective range  [1e+00, 1e+00]\n",
      "  Bounds range     [1e+00, 1e+00]\n",
      "  RHS range        [1e+00, 1e+00]\n",
      "Presolve removed 1 rows and 8 columns\n",
      "Presolve time: 0.00s\n",
      "Presolve: All rows and columns removed\n",
      "\n",
      "Explored 0 nodes (0 simplex iterations) in 0.01 seconds\n",
      "Thread count was 1 (of 8 available processors)\n",
      "\n",
      "Solution count 1: 6 \n",
      "\n",
      "Optimal solution found (tolerance 1.00e-04)\n",
      "Best objective 6.000000000000e+00, best bound 6.000000000000e+00, gap 0.0000%\n",
      "C0 1\n",
      "C1 1\n",
      "C2 1\n",
      "C3 1\n",
      "C4 1\n",
      "C5 1\n",
      "C6 1\n",
      "C7 0\n",
      "Obj: 6\n"
     ]
    }
   ],
   "source": [
    "import gurobipy as gp\n",
    "from gurobipy import GRB\n",
    "\n",
    "try:\n",
    "\n",
    "    # Create a new model\n",
    "    m = gp.Model(\"mip1\")\n",
    "\n",
    "    # Create variables\n",
    "    x =[m.addVar(vtype=GRB.BINARY) for i in range(6)]\n",
    "    \n",
    "    y = [gp.quicksum(x[i:i+3]) for i in range(0,6,3)]\n",
    "    z = m.addVar(vtype=GRB.BINARY)\n",
    "    z2 = m.addVar(vtype=GRB.BINARY)\n",
    "    \n",
    "    \n",
    "    m.addConstr((z==1) >> (y[0]>=0))\n",
    "    m.addConstr((z2==1) >> (y[1]>=0))\n",
    "    m.addConstr(z + z2 == 1)\n",
    "    # Set objective\n",
    "    m.setObjective(gp.quicksum(x), GRB.MAXIMIZE)\n",
    "\n",
    "    # Add constraint: x + 2 y + 3 z <= 4\n",
    "#     m.addConstr(x + 2 * y + 3 * z <= 4, \"c0\")\n",
    "\n",
    "    # Add constraint: x + y >= 1\n",
    "#     m.addConstr(x + y >= 1, \"c1\")\n",
    "#     m.addQConstr(x / (x + 1e-6) >= 1, \"c2\")\n",
    "    \n",
    "\n",
    "    # Optimize model\n",
    "    m.optimize()\n",
    "\n",
    "    for v in m.getVars():\n",
    "        print('%s %g' % (v.varName, v.x))\n",
    "\n",
    "    print('Obj: %g' % m.objVal)\n",
    "\n",
    "except gp.GurobiError as e:\n",
    "    print('Error code ' + str(e.errno) + ': ' + str(e))\n",
    "\n",
    "except AttributeError:\n",
    "    print('Encountered an attribute error')"
   ]
  }
 ],
 "metadata": {
  "kernelspec": {
   "display_name": "Python 3",
   "language": "python",
   "name": "python3"
  },
  "language_info": {
   "codemirror_mode": {
    "name": "ipython",
    "version": 3
   },
   "file_extension": ".py",
   "mimetype": "text/x-python",
   "name": "python",
   "nbconvert_exporter": "python",
   "pygments_lexer": "ipython3",
   "version": "3.7.3"
  }
 },
 "nbformat": 4,
 "nbformat_minor": 4
}
