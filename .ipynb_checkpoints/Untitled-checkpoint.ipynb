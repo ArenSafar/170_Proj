{
 "cells": [
  {
   "cell_type": "code",
   "execution_count": 43,
   "metadata": {},
   "outputs": [],
   "source": [
    "import numpy as np\n",
    "file1 = open(\"30.in\", \"w+\")"
   ]
  },
  {
   "cell_type": "code",
   "execution_count": 44,
   "metadata": {},
   "outputs": [],
   "source": [
    "def generate2(p, V):\n",
    "    \n",
    "    a = list(range(0,p)) + list(range(p+1, V))\n",
    "    rnds = np.random.choice(a, 2, replace = False)\n",
    "    rt1 = str(p) + \" \" + str(rnds[0]) + \" \" + str(round(np.random.uniform(0,1),3)) + \"\\n\"\n",
    "    rt2 = str(p) + \" \" + str(rnds[1]) + \" \" + str(round(np.random.uniform(0,1),3)) + \"\\n\"\n",
    "    return rt1+rt2\n",
    "    \n",
    "def create_graph(V):\n",
    "    data = str(V)+\"\\n\"\n",
    "    for v in range(V):\n",
    "        data += str(v) + \" \" + str(rnds[0]) + \" \" + str(round(np.random.uniform(0,1),3)) + \"\\n\"\n",
    "        data += str(v) + \" \" + str(rnds[0]) + \" \" + str(round(np.random.uniform(0,1),3)) + \"\\n\"\n",
    "    "
   ]
  },
  {
   "cell_type": "code",
   "execution_count": 45,
   "metadata": {},
   "outputs": [],
   "source": [
    "file1.write(generate2(1,5))\n",
    "file1.close()"
   ]
  },
  {
   "cell_type": "code",
   "execution_count": 32,
   "metadata": {
    "scrolled": true
   },
   "outputs": [
    {
     "name": "stdout",
     "output_type": "stream",
     "text": [
      "[4, 6, 7, 8, 9]\n"
     ]
    },
    {
     "data": {
      "text/plain": [
       "array([4, 7, 8])"
      ]
     },
     "execution_count": 32,
     "metadata": {},
     "output_type": "execute_result"
    }
   ],
   "source": [
    "c = list(range(4,5)) + list(range(5+1, 10))\n",
    "print(c)\n",
    "np.random.choice(c, 3, replace = False)"
   ]
  },
  {
   "cell_type": "code",
   "execution_count": 145,
   "metadata": {},
   "outputs": [],
   "source": [
    "def generate_rnd_edges(n, portion):\n",
    "    n = 10\n",
    "    # upper triangular indicies with diagonal offset 1 (diagonal elements are not included)\n",
    "    iu1 = np.triu_indices(n, 1)\n",
    "\n",
    "    # choose randomly number of portion of the possible edges\n",
    "    msk = np.random.choice(len(iu1[0]), int(portion*len(iu1[0])), replace = False)\n",
    "\n",
    "    masked = (iu1[0][msk], iu1[1][msk])\n",
    "    a = np.zeros((10,10))\n",
    "    a[masked] = 1\n",
    "    indicies = np.where(a>0)\n",
    "    \n",
    "    return list(zip(indicies[0],indicies[1]))"
   ]
  },
  {
   "cell_type": "code",
   "execution_count": 146,
   "metadata": {},
   "outputs": [
    {
     "data": {
      "text/plain": [
       "[(0, 1),\n",
       " (0, 2),\n",
       " (0, 3),\n",
       " (0, 5),\n",
       " (0, 6),\n",
       " (0, 7),\n",
       " (0, 8),\n",
       " (0, 9),\n",
       " (1, 2),\n",
       " (1, 3),\n",
       " (1, 6),\n",
       " (1, 7),\n",
       " (1, 9),\n",
       " (2, 4),\n",
       " (2, 5),\n",
       " (2, 6),\n",
       " (2, 7),\n",
       " (2, 8),\n",
       " (2, 9),\n",
       " (3, 4),\n",
       " (3, 5),\n",
       " (3, 6),\n",
       " (3, 7),\n",
       " (3, 9),\n",
       " (4, 5),\n",
       " (4, 7),\n",
       " (4, 8),\n",
       " (4, 9),\n",
       " (5, 6),\n",
       " (5, 8),\n",
       " (5, 9),\n",
       " (6, 8),\n",
       " (6, 9),\n",
       " (7, 8),\n",
       " (7, 9),\n",
       " (8, 9)]"
      ]
     },
     "execution_count": 146,
     "metadata": {},
     "output_type": "execute_result"
    }
   ],
   "source": [
    "generate_rnd_edges(10,0.8)"
   ]
  },
  {
   "cell_type": "code",
   "execution_count": null,
   "metadata": {},
   "outputs": [],
   "source": []
  }
 ],
 "metadata": {
  "kernelspec": {
   "display_name": "Python 3",
   "language": "python",
   "name": "python3"
  },
  "language_info": {
   "codemirror_mode": {
    "name": "ipython",
    "version": 3
   },
   "file_extension": ".py",
   "mimetype": "text/x-python",
   "name": "python",
   "nbconvert_exporter": "python",
   "pygments_lexer": "ipython3",
   "version": "3.7.3"
  }
 },
 "nbformat": 4,
 "nbformat_minor": 4
}
